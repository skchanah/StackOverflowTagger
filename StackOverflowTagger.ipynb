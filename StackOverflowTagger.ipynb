{
  "cells": [
    {
      "cell_type": "markdown",
      "metadata": {
        "colab_type": "text",
        "id": "view-in-github"
      },
      "source": [
        "<a href=\"https://colab.research.google.com/github/DeeeTeeee/Sentiment-Classification-FineTunning/blob/main/Fine_tuning_Hugging_face_trainer_roberta.ipynb\" target=\"_parent\"><img src=\"https://colab.research.google.com/assets/colab-badge.svg\" alt=\"Open In Colab\"/></a>"
      ]
    },
    {
      "cell_type": "markdown",
      "metadata": {
        "id": "QqBbFZn5txdA"
      },
      "source": [
        "# StackOverflow Tag Recommendation Tool with ModernBert "
      ]
    },
    {
      "cell_type": "markdown",
      "metadata": {},
      "source": [
        "## Import"
      ]
    },
    {
      "cell_type": "code",
      "execution_count": 1,
      "metadata": {
        "colab": {
          "background_save": true
        },
        "id": "Fm6QDAUPtxdJ"
      },
      "outputs": [],
      "source": [
        "# Import libraries\n",
        "import os\n",
        "import numpy as np\n",
        "import pandas as pd\n",
        "\n",
        "\n"
      ]
    },
    {
      "cell_type": "code",
      "execution_count": null,
      "metadata": {
        "colab": {
          "background_save": true,
          "referenced_widgets": [
            "f3140cbd5b9a4216b729f0f0f32dd12c"
          ]
        },
        "id": "ZXGcBuJc671Z",
        "outputId": "d2b40b53-e31a-4935-fe9a-f1ef65f66c46"
      },
      "outputs": [],
      "source": [
        "from huggingface_hub import login #,notebook_login()\n",
        " \n",
        "login()"
      ]
    },
    {
      "cell_type": "code",
      "execution_count": 3,
      "metadata": {
        "id": "t_hA3lAvtxdN"
      },
      "outputs": [],
      "source": [
        "# Load the dataset and display some values\n",
        "df = pd.read_csv('./QueryResults.csv')\n"
      ]
    },
    {
      "cell_type": "code",
      "execution_count": 4,
      "metadata": {},
      "outputs": [
        {
          "data": {
            "text/plain": [
              "Title                0\n",
              "Body                 0\n",
              "Tags                 0\n",
              "Id                   0\n",
              "Score                0\n",
              "ViewCount            0\n",
              "FavoriteCount    50000\n",
              "AnswerCount          0\n",
              "TagCount             0\n",
              "dtype: int64"
            ]
          },
          "execution_count": 4,
          "metadata": {},
          "output_type": "execute_result"
        }
      ],
      "source": [
        "# Check NA\n",
        "df.isna().sum()"
      ]
    },
    {
      "cell_type": "code",
      "execution_count": 5,
      "metadata": {
        "id": "nc_cKWnu62Ac"
      },
      "outputs": [],
      "source": [
        "# Set the max_colwidth option to a higher value\n",
        "pd.set_option('display.max_colwidth', None)"
      ]
    },
    {
      "cell_type": "code",
      "execution_count": 6,
      "metadata": {},
      "outputs": [
        {
          "data": {
            "text/html": [
              "<div>\n",
              "<style scoped>\n",
              "    .dataframe tbody tr th:only-of-type {\n",
              "        vertical-align: middle;\n",
              "    }\n",
              "\n",
              "    .dataframe tbody tr th {\n",
              "        vertical-align: top;\n",
              "    }\n",
              "\n",
              "    .dataframe thead th {\n",
              "        text-align: right;\n",
              "    }\n",
              "</style>\n",
              "<table border=\"1\" class=\"dataframe\">\n",
              "  <thead>\n",
              "    <tr style=\"text-align: right;\">\n",
              "      <th></th>\n",
              "      <th>Title</th>\n",
              "      <th>Body</th>\n",
              "      <th>Tags</th>\n",
              "      <th>Id</th>\n",
              "      <th>Score</th>\n",
              "      <th>ViewCount</th>\n",
              "      <th>FavoriteCount</th>\n",
              "      <th>AnswerCount</th>\n",
              "      <th>TagCount</th>\n",
              "    </tr>\n",
              "  </thead>\n",
              "  <tbody>\n",
              "    <tr>\n",
              "      <th>0</th>\n",
              "      <td>How do I execute a program or call a system command?</td>\n",
              "      <td>&lt;p&gt;How do I call an external command within Python as if I had typed it in a shell or command prompt?&lt;/p&gt;\\n</td>\n",
              "      <td>&lt;python&gt;&lt;shell&gt;&lt;terminal&gt;&lt;subprocess&gt;&lt;command&gt;</td>\n",
              "      <td>89228</td>\n",
              "      <td>6240</td>\n",
              "      <td>5053386</td>\n",
              "      <td>NaN</td>\n",
              "      <td>66</td>\n",
              "      <td>5</td>\n",
              "    </tr>\n",
              "    <tr>\n",
              "      <th>1</th>\n",
              "      <td>How do I perform an IF...THEN in an SQL SELECT?</td>\n",
              "      <td>&lt;p&gt;How do I perform an &lt;code&gt;IF...THEN&lt;/code&gt; in an &lt;code&gt;SQL SELECT&lt;/code&gt; statement?&lt;/p&gt;\\n\\n&lt;p&gt;For example:&lt;/p&gt;\\n\\n&lt;pre&gt;&lt;code&gt;SELECT IF(Obsolete = 'N' OR InStock = 'Y' ? 1 : 0) AS Saleable, * FROM Product\\n&lt;/code&gt;&lt;/pre&gt;\\n</td>\n",
              "      <td>&lt;sql&gt;&lt;sql-server&gt;&lt;t-sql&gt;&lt;if-statement&gt;&lt;case&gt;</td>\n",
              "      <td>63447</td>\n",
              "      <td>1804</td>\n",
              "      <td>4726449</td>\n",
              "      <td>NaN</td>\n",
              "      <td>30</td>\n",
              "      <td>5</td>\n",
              "    </tr>\n",
              "    <tr>\n",
              "      <th>2</th>\n",
              "      <td>How do I copy a file?</td>\n",
              "      <td>&lt;p&gt;How do I copy a file in Python?&lt;/p&gt;\\n</td>\n",
              "      <td>&lt;python&gt;&lt;file&gt;&lt;copy&gt;&lt;filesystems&gt;&lt;file-copying&gt;</td>\n",
              "      <td>123198</td>\n",
              "      <td>3908</td>\n",
              "      <td>3985117</td>\n",
              "      <td>NaN</td>\n",
              "      <td>21</td>\n",
              "      <td>5</td>\n",
              "    </tr>\n",
              "    <tr>\n",
              "      <th>3</th>\n",
              "      <td>How do I create a directory, and any missing parent directories?</td>\n",
              "      <td>&lt;p&gt;How do I create a directory at a given path, and also create any missing parent directories along that path? For example, the Bash command &lt;code&gt;mkdir -p /path/to/nested/directory&lt;/code&gt; does this.&lt;/p&gt;\\n</td>\n",
              "      <td>&lt;python&gt;&lt;exception&gt;&lt;path&gt;&lt;directory&gt;&lt;operating-system&gt;</td>\n",
              "      <td>273192</td>\n",
              "      <td>5780</td>\n",
              "      <td>3934627</td>\n",
              "      <td>NaN</td>\n",
              "      <td>27</td>\n",
              "      <td>5</td>\n",
              "    </tr>\n",
              "    <tr>\n",
              "      <th>4</th>\n",
              "      <td>How to return only the Date from a SQL Server DateTime datatype</td>\n",
              "      <td>&lt;pre&gt;&lt;code&gt;SELECT GETDATE()\\n&lt;/code&gt;&lt;/pre&gt;\\n\\n&lt;p&gt;Returns: &lt;code&gt;2008-09-22 15:24:13.790&lt;/code&gt;&lt;/p&gt;\\n\\n&lt;p&gt;I want that date part without the time part: &lt;code&gt;2008-09-22 00:00:00.000&lt;/code&gt;&lt;/p&gt;\\n\\n&lt;p&gt;How can I get that?&lt;/p&gt;\\n</td>\n",
              "      <td>&lt;sql&gt;&lt;date&gt;&lt;t-sql&gt;&lt;datetime&gt;&lt;sql-server-2008&gt;</td>\n",
              "      <td>113045</td>\n",
              "      <td>2215</td>\n",
              "      <td>3877155</td>\n",
              "      <td>NaN</td>\n",
              "      <td>47</td>\n",
              "      <td>5</td>\n",
              "    </tr>\n",
              "  </tbody>\n",
              "</table>\n",
              "</div>"
            ],
            "text/plain": [
              "                                                              Title  \\\n",
              "0              How do I execute a program or call a system command?   \n",
              "1                   How do I perform an IF...THEN in an SQL SELECT?   \n",
              "2                                             How do I copy a file?   \n",
              "3  How do I create a directory, and any missing parent directories?   \n",
              "4   How to return only the Date from a SQL Server DateTime datatype   \n",
              "\n",
              "                                                                                                                                                                                                                              Body  \\\n",
              "0                                                                                                                      <p>How do I call an external command within Python as if I had typed it in a shell or command prompt?</p>\\n   \n",
              "1  <p>How do I perform an <code>IF...THEN</code> in an <code>SQL SELECT</code> statement?</p>\\n\\n<p>For example:</p>\\n\\n<pre><code>SELECT IF(Obsolete = 'N' OR InStock = 'Y' ? 1 : 0) AS Saleable, * FROM Product\\n</code></pre>\\n   \n",
              "2                                                                                                                                                                                         <p>How do I copy a file in Python?</p>\\n   \n",
              "3                   <p>How do I create a directory at a given path, and also create any missing parent directories along that path? For example, the Bash command <code>mkdir -p /path/to/nested/directory</code> does this.</p>\\n   \n",
              "4   <pre><code>SELECT GETDATE()\\n</code></pre>\\n\\n<p>Returns: <code>2008-09-22 15:24:13.790</code></p>\\n\\n<p>I want that date part without the time part: <code>2008-09-22 00:00:00.000</code></p>\\n\\n<p>How can I get that?</p>\\n   \n",
              "\n",
              "                                                     Tags      Id  Score  \\\n",
              "0          <python><shell><terminal><subprocess><command>   89228   6240   \n",
              "1            <sql><sql-server><t-sql><if-statement><case>   63447   1804   \n",
              "2         <python><file><copy><filesystems><file-copying>  123198   3908   \n",
              "3  <python><exception><path><directory><operating-system>  273192   5780   \n",
              "4           <sql><date><t-sql><datetime><sql-server-2008>  113045   2215   \n",
              "\n",
              "   ViewCount  FavoriteCount  AnswerCount  TagCount  \n",
              "0    5053386            NaN           66         5  \n",
              "1    4726449            NaN           30         5  \n",
              "2    3985117            NaN           21         5  \n",
              "3    3934627            NaN           27         5  \n",
              "4    3877155            NaN           47         5  "
            ]
          },
          "execution_count": 6,
          "metadata": {},
          "output_type": "execute_result"
        }
      ],
      "source": [
        "# Display the first 5 rows of the dataframe \n",
        "df.head()"
      ]
    },
    {
      "cell_type": "markdown",
      "metadata": {
        "id": "-fbIMa0W3AzO"
      },
      "source": [
        "## Preprocessing and little EDA"
      ]
    },
    {
      "cell_type": "markdown",
      "metadata": {
        "id": "EhIAEpTR_1t6"
      },
      "source": [
        "### Data cleaning"
      ]
    },
    {
      "cell_type": "code",
      "execution_count": 7,
      "metadata": {
        "id": "jD7LD-rU3EET"
      },
      "outputs": [
        {
          "name": "stdout",
          "output_type": "stream",
          "text": [
            "6\n"
          ]
        }
      ],
      "source": [
        "# Max Tags Count\n",
        "print(df.TagCount.max())"
      ]
    },
    {
      "cell_type": "code",
      "execution_count": 8,
      "metadata": {},
      "outputs": [],
      "source": [
        "# Fix the Labels, deliminate\n",
        "df[\"Tags\"] = df[\"Tags\"].apply(lambda x: x.replace(\"<\",\"\"))\n",
        "df[\"Tags\"] = df['Tags'].apply(lambda x: x[:-1].split('>')) #[:-1] to skip the last \">\"\n"
      ]
    },
    {
      "cell_type": "code",
      "execution_count": 9,
      "metadata": {},
      "outputs": [],
      "source": [
        "df = df[[\"Title\",\"Tags\"]]"
      ]
    },
    {
      "cell_type": "code",
      "execution_count": 10,
      "metadata": {},
      "outputs": [
        {
          "data": {
            "text/html": [
              "<div>\n",
              "<style scoped>\n",
              "    .dataframe tbody tr th:only-of-type {\n",
              "        vertical-align: middle;\n",
              "    }\n",
              "\n",
              "    .dataframe tbody tr th {\n",
              "        vertical-align: top;\n",
              "    }\n",
              "\n",
              "    .dataframe thead th {\n",
              "        text-align: right;\n",
              "    }\n",
              "</style>\n",
              "<table border=\"1\" class=\"dataframe\">\n",
              "  <thead>\n",
              "    <tr style=\"text-align: right;\">\n",
              "      <th></th>\n",
              "      <th>Title</th>\n",
              "      <th>Tags</th>\n",
              "    </tr>\n",
              "  </thead>\n",
              "  <tbody>\n",
              "    <tr>\n",
              "      <th>0</th>\n",
              "      <td>How do I execute a program or call a system command?</td>\n",
              "      <td>[python, shell, terminal, subprocess, command]</td>\n",
              "    </tr>\n",
              "    <tr>\n",
              "      <th>1</th>\n",
              "      <td>How do I perform an IF...THEN in an SQL SELECT?</td>\n",
              "      <td>[sql, sql-server, t-sql, if-statement, case]</td>\n",
              "    </tr>\n",
              "    <tr>\n",
              "      <th>2</th>\n",
              "      <td>How do I copy a file?</td>\n",
              "      <td>[python, file, copy, filesystems, file-copying]</td>\n",
              "    </tr>\n",
              "    <tr>\n",
              "      <th>3</th>\n",
              "      <td>How do I create a directory, and any missing parent directories?</td>\n",
              "      <td>[python, exception, path, directory, operating-system]</td>\n",
              "    </tr>\n",
              "    <tr>\n",
              "      <th>4</th>\n",
              "      <td>How to return only the Date from a SQL Server DateTime datatype</td>\n",
              "      <td>[sql, date, t-sql, datetime, sql-server-2008]</td>\n",
              "    </tr>\n",
              "  </tbody>\n",
              "</table>\n",
              "</div>"
            ],
            "text/plain": [
              "                                                              Title  \\\n",
              "0              How do I execute a program or call a system command?   \n",
              "1                   How do I perform an IF...THEN in an SQL SELECT?   \n",
              "2                                             How do I copy a file?   \n",
              "3  How do I create a directory, and any missing parent directories?   \n",
              "4   How to return only the Date from a SQL Server DateTime datatype   \n",
              "\n",
              "                                                     Tags  \n",
              "0          [python, shell, terminal, subprocess, command]  \n",
              "1            [sql, sql-server, t-sql, if-statement, case]  \n",
              "2         [python, file, copy, filesystems, file-copying]  \n",
              "3  [python, exception, path, directory, operating-system]  \n",
              "4           [sql, date, t-sql, datetime, sql-server-2008]  "
            ]
          },
          "execution_count": 10,
          "metadata": {},
          "output_type": "execute_result"
        }
      ],
      "source": [
        "df.head()"
      ]
    },
    {
      "cell_type": "code",
      "execution_count": 11,
      "metadata": {},
      "outputs": [
        {
          "name": "stdout",
          "output_type": "stream",
          "text": [
            "Tags\n",
            "javascript                  6795\n",
            "java                        5716\n",
            "python                      5302\n",
            "c#                          5298\n",
            "html                        3302\n",
            "                            ... \n",
            "kubernetes-networkpolicy       1\n",
            "iso-3166                       1\n",
            "uint8t                         1\n",
            "git-extensions                 1\n",
            "skype4com                      1\n",
            "Name: count, Length: 19484, dtype: int64\n"
          ]
        }
      ],
      "source": [
        "# Count of Individula Tags\n",
        "Tags = df['Tags'].explode().value_counts()# value_counts returns in descending order\n",
        "print(Tags)\n",
        "\n",
        "# All tags are in lower case so no further processing is required for the moment"
      ]
    },
    {
      "cell_type": "code",
      "execution_count": 12,
      "metadata": {},
      "outputs": [
        {
          "data": {
            "text/plain": [
              "<Axes: >"
            ]
          },
          "execution_count": 12,
          "metadata": {},
          "output_type": "execute_result"
        },
        {
          "data": {
            "image/png": "[encoded data removed]",
            "text/plain": [
              "<Figure size 1000x500 with 1 Axes>"
            ]
          },
          "metadata": {},
          "output_type": "display_data"
        }
      ],
      "source": [
        "# Quick Plot\n",
        "Tags.plot(kind='box', figsize=(10,5))"
      ]
    },
    {
      "cell_type": "markdown",
      "metadata": {},
      "source": [
        "Mean and Median is close to 1 and top ~20 tags are used in at least 5% of the questions. To reduce the complexity of this task, top 30 tags are thus selected. "
      ]
    },
    {
      "cell_type": "markdown",
      "metadata": {
        "id": "M-8ss5cjyViJ"
      },
      "source": [
        "### Class Preprocessing"
      ]
    },
    {
      "cell_type": "code",
      "execution_count": 13,
      "metadata": {},
      "outputs": [
        {
          "name": "stdout",
          "output_type": "stream",
          "text": [
            "{'javascript': 0, 'java': 1, 'python': 2, 'c#': 3, 'html': 4, 'php': 5, 'android': 6, 'jquery': 7, 'ios': 8, 'c++': 9, '.net': 10, 'css': 11, 'node.js': 12, 'sql': 13, 'asp.net': 14, 'arrays': 15, 'mysql': 16, 'json': 17, 'reactjs': 18, 'c': 19, 'objective-c': 20, 'swift': 21, 'python-3.x': 22, 'linux': 23, 'spring': 24, 'iphone': 25, 'ajax': 26, 'database': 27, 'sql-server': 28, 'ruby-on-rails': 29}\n",
            "30\n",
            "{0: 'javascript', 1: 'java', 2: 'python', 3: 'c#', 4: 'html', 5: 'php', 6: 'android', 7: 'jquery', 8: 'ios', 9: 'c++', 10: '.net', 11: 'css', 12: 'node.js', 13: 'sql', 14: 'asp.net', 15: 'arrays', 16: 'mysql', 17: 'json', 18: 'reactjs', 19: 'c', 20: 'objective-c', 21: 'swift', 22: 'python-3.x', 23: 'linux', 24: 'spring', 25: 'iphone', 26: 'ajax', 27: 'database', 28: 'sql-server', 29: 'ruby-on-rails'}\n",
            "30\n"
          ]
        }
      ],
      "source": [
        "classes = Tags.head(30).index.tolist() # select top 30 tags \n",
        "class2id = {clas: id for id, clas in enumerate(classes)}\n",
        "id2class = {id: clas for clas, id in class2id.items()}\n",
        "print(class2id)\n",
        "print(len(class2id))\n",
        "print(id2class)\n",
        "print(len(id2class))"
      ]
    },
    {
      "cell_type": "code",
      "execution_count": 14,
      "metadata": {},
      "outputs": [],
      "source": [
        "# Update the Tags col with the top 30 tags\n",
        "df['Tags'] = df['Tags'].apply(\n",
        "    lambda x: list(set([tag if tag in classes else 'other/none' for tag in x ]))\n",
        "    )"
      ]
    },
    {
      "cell_type": "code",
      "execution_count": 15,
      "metadata": {},
      "outputs": [
        {
          "data": {
            "text/plain": [
              "Tags\n",
              "[other/none]                                        9608\n",
              "[other/none, python]                                3660\n",
              "[java, other/none]                                  3122\n",
              "[other/none, c#]                                    2321\n",
              "[other/none, c++]                                   1749\n",
              "                                                    ... \n",
              "[swift, c, objective-c, other/none]                    1\n",
              "[android, json, other/none, c#, arrays]                1\n",
              "[java, sql, sql-server, mysql, other/none]             1\n",
              "[java, spring, other/none, jquery, javascript]         1\n",
              "[json, other/none, javascript, python-3.x, html]       1\n",
              "Name: count, Length: 1296, dtype: int64"
            ]
          },
          "execution_count": 15,
          "metadata": {},
          "output_type": "execute_result"
        }
      ],
      "source": [
        "df['Tags'].value_counts()"
      ]
    },
    {
      "cell_type": "code",
      "execution_count": 16,
      "metadata": {},
      "outputs": [],
      "source": [
        "# add 'none/other' into classes\n",
        "classes.append('other/none')\n",
        "class2id['other/none'] = len(class2id)    \n",
        "id2class[len(id2class)] = 'other/none'"
      ]
    },
    {
      "cell_type": "code",
      "execution_count": 17,
      "metadata": {},
      "outputs": [
        {
          "name": "stdout",
          "output_type": "stream",
          "text": [
            "31\n",
            "{'javascript': 0, 'java': 1, 'python': 2, 'c#': 3, 'html': 4, 'php': 5, 'android': 6, 'jquery': 7, 'ios': 8, 'c++': 9, '.net': 10, 'css': 11, 'node.js': 12, 'sql': 13, 'asp.net': 14, 'arrays': 15, 'mysql': 16, 'json': 17, 'reactjs': 18, 'c': 19, 'objective-c': 20, 'swift': 21, 'python-3.x': 22, 'linux': 23, 'spring': 24, 'iphone': 25, 'ajax': 26, 'database': 27, 'sql-server': 28, 'ruby-on-rails': 29, 'other/none': 30}\n",
            "31\n",
            "{0: 'javascript', 1: 'java', 2: 'python', 3: 'c#', 4: 'html', 5: 'php', 6: 'android', 7: 'jquery', 8: 'ios', 9: 'c++', 10: '.net', 11: 'css', 12: 'node.js', 13: 'sql', 14: 'asp.net', 15: 'arrays', 16: 'mysql', 17: 'json', 18: 'reactjs', 19: 'c', 20: 'objective-c', 21: 'swift', 22: 'python-3.x', 23: 'linux', 24: 'spring', 25: 'iphone', 26: 'ajax', 27: 'database', 28: 'sql-server', 29: 'ruby-on-rails', 30: 'other/none'}\n",
            "31\n"
          ]
        }
      ],
      "source": [
        "print(len(classes))\n",
        "print(class2id)\n",
        "print(len(class2id))\n",
        "print(id2class)\n",
        "print(len(id2class))"
      ]
    },
    {
      "cell_type": "markdown",
      "metadata": {
        "id": "TA5GaHsvLz5F"
      },
      "source": [
        "### Title Preprocessing"
      ]
    },
    {
      "cell_type": "code",
      "execution_count": 19,
      "metadata": {},
      "outputs": [
        {
          "name": "stdout",
          "output_type": "stream",
          "text": [
            "0                                                   how do i execute a program or call a system command?\n",
            "1                                                        how do i perform an if...then in an sql select?\n",
            "2                                                                                  how do i copy a file?\n",
            "3                                       how do i create a directory, and any missing parent directories?\n",
            "4                                        how to return only the date from a sql server datetime datatype\n",
            "                                                      ...                                               \n",
            "49995    my javascript variable not able to accept object which i have send using django render() method\n",
            "49996       linkers: file was built for archive which is not the architecture being linked (x86_64) glfw\n",
            "49997                                                          generating a lot of unique tokens in ruby\n",
            "49998                                 javascript: multiple instances wrong reference to private property\n",
            "49999                             trouble with checkboxes and selects interaction on click and on change\n",
            "Name: Title, Length: 50000, dtype: object\n"
          ]
        }
      ],
      "source": [
        "# Convert title to lower case\n",
        "df['Title'] = df['Title'].str.lower()\n",
        "print(df['Title'])"
      ]
    },
    {
      "cell_type": "markdown",
      "metadata": {},
      "source": [
        "## Model setups"
      ]
    },
    {
      "cell_type": "code",
      "execution_count": 20,
      "metadata": {},
      "outputs": [],
      "source": [
        "import torch\n",
        "from transformers import AutoTokenizer, DataCollatorWithPadding, AutoModelForSequenceClassification, TrainingArguments, Trainer\n"
      ]
    },
    {
      "cell_type": "code",
      "execution_count": 21,
      "metadata": {},
      "outputs": [
        {
          "data": {
            "application/vnd.jupyter.widget-view+json": {
              "model_id": "7c18894fc21e4f20a6bea0e4fa8103d0",
              "version_major": 2,
              "version_minor": 0
            },
            "text/plain": [
              "tokenizer_config.json:   0%|          | 0.00/48.0 [00:00<?, ?B/s]"
            ]
          },
          "metadata": {},
          "output_type": "display_data"
        },
        {
          "data": {
            "application/vnd.jupyter.widget-view+json": {
              "model_id": "6d29c4907eae45389b45e7779bd31ba4",
              "version_major": 2,
              "version_minor": 0
            },
            "text/plain": [
              "config.json:   0%|          | 0.00/570 [00:00<?, ?B/s]"
            ]
          },
          "metadata": {},
          "output_type": "display_data"
        },
        {
          "data": {
            "application/vnd.jupyter.widget-view+json": {
              "model_id": "85fa4e0189c04216841af2e65ccf7210",
              "version_major": 2,
              "version_minor": 0
            },
            "text/plain": [
              "vocab.txt:   0%|          | 0.00/232k [00:00<?, ?B/s]"
            ]
          },
          "metadata": {},
          "output_type": "display_data"
        },
        {
          "data": {
            "application/vnd.jupyter.widget-view+json": {
              "model_id": "752d649c2b064b52b2d5773630a1eaa0",
              "version_major": 2,
              "version_minor": 0
            },
            "text/plain": [
              "tokenizer.json:   0%|          | 0.00/466k [00:00<?, ?B/s]"
            ]
          },
          "metadata": {},
          "output_type": "display_data"
        }
      ],
      "source": [
        "\n",
        "model_id = \"bert-base-uncased\" #\"answerdotai/ModernBERT-base\"\n",
        "tokenizer = AutoTokenizer.from_pretrained(model_id)\n"
      ]
    },
    {
      "cell_type": "code",
      "execution_count": 22,
      "metadata": {},
      "outputs": [
        {
          "data": {
            "text/plain": [
              "Dataset({\n",
              "    features: ['Title', 'Tags'],\n",
              "    num_rows: 50000\n",
              "})"
            ]
          },
          "execution_count": 22,
          "metadata": {},
          "output_type": "execute_result"
        }
      ],
      "source": [
        "# Convert Pandas DataFrame to Hugging Face Dataset\n",
        "from datasets import Dataset\n",
        "dataset = Dataset.from_pandas(df)\n",
        "dataset"
      ]
    },
    {
      "cell_type": "code",
      "execution_count": 23,
      "metadata": {},
      "outputs": [
        {
          "data": {
            "application/vnd.jupyter.widget-view+json": {
              "model_id": "db00bccdf04946e99ecdf71b254adc2a",
              "version_major": 2,
              "version_minor": 0
            },
            "text/plain": [
              "Map:   0%|          | 0/50000 [00:00<?, ? examples/s]"
            ]
          },
          "metadata": {},
          "output_type": "display_data"
        }
      ],
      "source": [
        "# Tokenisation\n",
        "def preprocess_function(example):\n",
        "   text = example['Title']\n",
        "   all_labels = example['Tags']\n",
        "   labels = [0. for i in range(len(classes))]\n",
        "   for label in all_labels:\n",
        "       label_id = class2id[label]\n",
        "       labels[label_id] = 1.\n",
        "  \n",
        "   example = tokenizer(text, truncation=True) # padding=\"max_length\" if no dynamic padding\n",
        "   example['labels'] = labels\n",
        "   return example\n",
        "\n",
        "tokenized_dataset = dataset.map(preprocess_function)"
      ]
    },
    {
      "cell_type": "code",
      "execution_count": 24,
      "metadata": {},
      "outputs": [],
      "source": [
        "# Shuffle and Split the dataset\n",
        "tokenized_dataset = tokenized_dataset.shuffle(seed=42).train_test_split(test_size=0.3)"
      ]
    },
    {
      "cell_type": "code",
      "execution_count": 25,
      "metadata": {},
      "outputs": [
        {
          "data": {
            "text/plain": [
              "DatasetDict({\n",
              "    train: Dataset({\n",
              "        features: ['Title', 'Tags', 'input_ids', 'token_type_ids', 'attention_mask', 'labels'],\n",
              "        num_rows: 35000\n",
              "    })\n",
              "    test: Dataset({\n",
              "        features: ['Title', 'Tags', 'input_ids', 'token_type_ids', 'attention_mask', 'labels'],\n",
              "        num_rows: 15000\n",
              "    })\n",
              "})"
            ]
          },
          "execution_count": 25,
          "metadata": {},
          "output_type": "execute_result"
        }
      ],
      "source": [
        "tokenized_dataset"
      ]
    },
    {
      "cell_type": "code",
      "execution_count": 26,
      "metadata": {},
      "outputs": [],
      "source": [
        "# Collator for Dynamic Padding\n",
        "data_collator = DataCollatorWithPadding(tokenizer=tokenizer)"
      ]
    },
    {
      "cell_type": "code",
      "execution_count": null,
      "metadata": {},
      "outputs": [
        {
          "data": {
            "application/vnd.jupyter.widget-view+json": {
              "model_id": "652114f40818415391ded334a863eb80",
              "version_major": 2,
              "version_minor": 0
            },
            "text/plain": [
              "model.safetensors:   0%|          | 0.00/440M [00:00<?, ?B/s]"
            ]
          },
          "metadata": {},
          "output_type": "display_data"
        },
        {
          "name": "stderr",
          "output_type": "stream",
          "text": [
            "Some weights of BertForSequenceClassification were not initialized from the model checkpoint at bert-base-uncased and are newly initialized: ['classifier.bias', 'classifier.weight']\n",
            "You should probably TRAIN this model on a down-stream task to be able to use it for predictions and inference.\n"
          ]
        }
      ],
      "source": [
        "model = AutoModelForSequenceClassification.from_pretrained(\n",
        "    model_id, num_labels=len(classes),id2label=id2class, label2id=class2id,problem_type = \"multi_label_classification\"\n",
        "    )\n",
        "#model.to_device()"
      ]
    },
    {
      "cell_type": "code",
      "execution_count": 29,
      "metadata": {},
      "outputs": [
        {
          "data": {
            "application/vnd.jupyter.widget-view+json": {
              "model_id": "cc0bc01728db4e0db6f7e1704e379e76",
              "version_major": 2,
              "version_minor": 0
            },
            "text/plain": [
              "Downloading builder script:   0%|          | 0.00/4.20k [00:00<?, ?B/s]"
            ]
          },
          "metadata": {},
          "output_type": "display_data"
        },
        {
          "data": {
            "application/vnd.jupyter.widget-view+json": {
              "model_id": "ae51f6cb5b894777bcd559230736300a",
              "version_major": 2,
              "version_minor": 0
            },
            "text/plain": [
              "Downloading builder script:   0%|          | 0.00/6.79k [00:00<?, ?B/s]"
            ]
          },
          "metadata": {},
          "output_type": "display_data"
        },
        {
          "data": {
            "application/vnd.jupyter.widget-view+json": {
              "model_id": "48fad5270ac64970a14938083016eb86",
              "version_major": 2,
              "version_minor": 0
            },
            "text/plain": [
              "Downloading builder script:   0%|          | 0.00/7.56k [00:00<?, ?B/s]"
            ]
          },
          "metadata": {},
          "output_type": "display_data"
        },
        {
          "data": {
            "application/vnd.jupyter.widget-view+json": {
              "model_id": "5ecd91e0396449ed94328a3faaefca20",
              "version_major": 2,
              "version_minor": 0
            },
            "text/plain": [
              "Downloading builder script:   0%|          | 0.00/7.38k [00:00<?, ?B/s]"
            ]
          },
          "metadata": {},
          "output_type": "display_data"
        }
      ],
      "source": [
        "# Eval Function Setup\n",
        "import evaluate\n",
        "import numpy as np\n",
        "\n",
        "clf_metrics = evaluate.combine([\"accuracy\", \"f1\", \"precision\", \"recall\"])\n",
        "\n",
        "def sigmoid(x):\n",
        "   return 1/(1 + np.exp(-x))\n",
        "\n",
        "def compute_metrics(eval_pred):\n",
        "   predictions, labels = eval_pred\n",
        "   predictions = sigmoid(predictions)\n",
        "   predictions = (predictions > 0.5).astype(int).reshape(-1)\n",
        "   return clf_metrics.compute(predictions=predictions, references=labels.astype(int).reshape(-1))"
      ]
    },
    {
      "cell_type": "code",
      "execution_count": 31,
      "metadata": {},
      "outputs": [
        {
          "name": "stderr",
          "output_type": "stream",
          "text": [
            "/var/folders/nr/sl56fw5d2851zlfqbbqghrhm0000gn/T/ipykernel_8803/1473997891.py:14: FutureWarning: `tokenizer` is deprecated and will be removed in version 5.0.0 for `Trainer.__init__`. Use `processing_class` instead.\n",
            "  trainer = Trainer(\n"
          ]
        },
        {
          "data": {
            "text/html": [
              "\n",
              "    <div>\n",
              "      \n",
              "      <progress value='11667' max='11667' style='width:300px; height:20px; vertical-align: middle;'></progress>\n",
              "      [11667/11667 5:01:26, Epoch 1/1]\n",
              "    </div>\n",
              "    <table border=\"1\" class=\"dataframe\">\n",
              "  <thead>\n",
              " <tr style=\"text-align: left;\">\n",
              "      <th>Epoch</th>\n",
              "      <th>Training Loss</th>\n",
              "      <th>Validation Loss</th>\n",
              "      <th>Accuracy</th>\n",
              "      <th>F1</th>\n",
              "      <th>Precision</th>\n",
              "      <th>Recall</th>\n",
              "    </tr>\n",
              "  </thead>\n",
              "  <tbody>\n",
              "    <tr>\n",
              "      <td>1</td>\n",
              "      <td>0.103200</td>\n",
              "      <td>0.098023</td>\n",
              "      <td>0.968748</td>\n",
              "      <td>0.759833</td>\n",
              "      <td>0.893779</td>\n",
              "      <td>0.660803</td>\n",
              "    </tr>\n",
              "  </tbody>\n",
              "</table><p>"
            ],
            "text/plain": [
              "<IPython.core.display.HTML object>"
            ]
          },
          "metadata": {},
          "output_type": "display_data"
        },
        {
          "data": {
            "text/plain": [
              "TrainOutput(global_step=11667, training_loss=0.11666633100469591, metrics={'train_runtime': 18093.9356, 'train_samples_per_second': 1.934, 'train_steps_per_second': 0.645, 'total_flos': 376807340802816.0, 'train_loss': 0.11666633100469591, 'epoch': 1.0})"
            ]
          },
          "execution_count": 31,
          "metadata": {},
          "output_type": "execute_result"
        }
      ],
      "source": [
        "training_args = TrainingArguments(\n",
        "\n",
        "   output_dir=\"stackoverflow_tagger_bert\",\n",
        "   learning_rate=2e-5,\n",
        "   per_device_train_batch_size=3,\n",
        "   per_device_eval_batch_size=3,\n",
        "   num_train_epochs=1, # ideally 3-5 epoches but for the limitation of infrastructure, I am using 1 epoch\n",
        "   weight_decay=0.01,\n",
        "   evaluation_strategy=\"epoch\",\n",
        "   save_strategy=\"epoch\",\n",
        "   load_best_model_at_end=True,\n",
        ")\n",
        "\n",
        "trainer = Trainer(\n",
        "\n",
        "   model=model,\n",
        "   args=training_args,\n",
        "   train_dataset=tokenized_dataset[\"train\"],\n",
        "   eval_dataset=tokenized_dataset[\"test\"],\n",
        "   tokenizer=tokenizer,\n",
        "   data_collator=data_collator,\n",
        "   compute_metrics=compute_metrics,\n",
        ")\n",
        "\n",
        "trainer.train()"
      ]
    },
    {
      "cell_type": "code",
      "execution_count": 36,
      "metadata": {},
      "outputs": [
        {
          "data": {
            "application/vnd.jupyter.widget-view+json": {
              "model_id": "26dddfbda69b4edfb56208856f292a3a",
              "version_major": 2,
              "version_minor": 0
            },
            "text/plain": [
              "Upload 2 LFS files:   0%|          | 0/2 [00:00<?, ?it/s]"
            ]
          },
          "metadata": {},
          "output_type": "display_data"
        },
        {
          "data": {
            "application/vnd.jupyter.widget-view+json": {
              "model_id": "18ed4c87db644557aac7c10c0bc0b8d3",
              "version_major": 2,
              "version_minor": 0
            },
            "text/plain": [
              "training_args.bin:   0%|          | 0.00/5.37k [00:00<?, ?B/s]"
            ]
          },
          "metadata": {},
          "output_type": "display_data"
        },
        {
          "data": {
            "application/vnd.jupyter.widget-view+json": {
              "model_id": "451458ce24804f2381fccb2d35edd7a7",
              "version_major": 2,
              "version_minor": 0
            },
            "text/plain": [
              "model.safetensors:   0%|          | 0.00/438M [00:00<?, ?B/s]"
            ]
          },
          "metadata": {},
          "output_type": "display_data"
        },
        {
          "data": {
            "text/plain": [
              "CommitInfo(commit_url='https://huggingface.co/eugeneskchan/stackoverflow_tagger_bert/commit/3291dde77afb2e5009ad249641fdabed3aded801', commit_message='stackoverflow_tagger_bert', commit_description='', oid='3291dde77afb2e5009ad249641fdabed3aded801', pr_url=None, repo_url=RepoUrl('https://huggingface.co/eugeneskchan/stackoverflow_tagger_bert', endpoint='https://huggingface.co', repo_type='model', repo_id='eugeneskchan/stackoverflow_tagger_bert'), pr_revision=None, pr_num=None)"
            ]
          },
          "execution_count": 36,
          "metadata": {},
          "output_type": "execute_result"
        }
      ],
      "source": [
        "# Publish the model to Hugging Face Hub\n",
        "trainer.push_to_hub(\"stackoverflow_tagger_bert\")"
      ]
    },
    {
      "cell_type": "code",
      "execution_count": 53,
      "metadata": {},
      "outputs": [
        {
          "name": "stderr",
          "output_type": "stream",
          "text": [
            "Device set to use cpu\n"
          ]
        }
      ],
      "source": [
        "from transformers import pipeline\n",
        "clf = pipeline(\"text-classification\",model=\"eugeneskchan/stackoverflow_tagger_bert\")"
      ]
    },
    {
      "cell_type": "code",
      "execution_count": 65,
      "metadata": {},
      "outputs": [
        {
          "name": "stdout",
          "output_type": "stream",
          "text": [
            "['other/none', 'python']\n"
          ]
        }
      ],
      "source": [
        "result = clf(\"how do i install python on linux\", top_k=6)\n",
        "output = [r['label'] for r in result if r['score'] > 0.8]\n",
        "print(output)"
      ]
    }
  ],
  "metadata": {
    "accelerator": "GPU",
    "colab": {
      "include_colab_link": true,
      "provenance": []
    },
    "kernelspec": {
      "display_name": "Python 3",
      "name": "python3"
    },
    "language_info": {
      "codemirror_mode": {
        "name": "ipython",
        "version": 3
      },
      "file_extension": ".py",
      "mimetype": "text/x-python",
      "name": "python",
      "nbconvert_exporter": "python",
      "pygments_lexer": "ipython3",
      "version": "3.11.9"
    },
    "vscode": {
      "interpreter": {
        "hash": "1ab24538aa0da4b2d8c48eaca591ff7ffc54671225fb0511b432fd9e26a098ba"
      }
    },
    "widgets": {
      "application/vnd.jupyter.widget-state+json": {
        "1adf3daf9e264d3883591ad7dac0d4a4": {
          "model_module": "@jupyter-widgets/controls",
          "model_module_version": "1.5.0",
          "model_name": "HTMLModel",
          "state": {
            "_dom_classes": [],
            "_model_module": "@jupyter-widgets/controls",
            "_model_module_version": "1.5.0",
            "_model_name": "HTMLModel",
            "_view_count": null,
            "_view_module": "@jupyter-widgets/controls",
            "_view_module_version": "1.5.0",
            "_view_name": "HTMLView",
            "description": "",
            "description_tooltip": null,
            "layout": "IPY_MODEL_27260d45ffbb498597d0e36d5978174c",
            "placeholder": "​",
            "style": "IPY_MODEL_394adb4c608e42e79bbc835ce812cc89",
            "value": "Upload file runs/Jul13_04-02-07_60ba339b8491/events.out.tfevents.1689220934.60ba339b8491.3211.4: 100%"
          }
        },
        "1fa3e8730fe04897aad97e56629cfbaf": {
          "model_module": "@jupyter-widgets/controls",
          "model_module_version": "1.5.0",
          "model_name": "ProgressStyleModel",
          "state": {
            "_model_module": "@jupyter-widgets/controls",
            "_model_module_version": "1.5.0",
            "_model_name": "ProgressStyleModel",
            "_view_count": null,
            "_view_module": "@jupyter-widgets/base",
            "_view_module_version": "1.2.0",
            "_view_name": "StyleView",
            "bar_color": null,
            "description_width": ""
          }
        },
        "219b75738ddd4fbaa311aeae130e0a96": {
          "model_module": "@jupyter-widgets/controls",
          "model_module_version": "1.5.0",
          "model_name": "FloatProgressModel",
          "state": {
            "_dom_classes": [],
            "_model_module": "@jupyter-widgets/controls",
            "_model_module_version": "1.5.0",
            "_model_name": "FloatProgressModel",
            "_view_count": null,
            "_view_module": "@jupyter-widgets/controls",
            "_view_module_version": "1.5.0",
            "_view_name": "ProgressView",
            "bar_style": "success",
            "description": "",
            "description_tooltip": null,
            "layout": "IPY_MODEL_be96ffa82a78483e86808f94ad863274",
            "max": 6458,
            "min": 0,
            "orientation": "horizontal",
            "style": "IPY_MODEL_1fa3e8730fe04897aad97e56629cfbaf",
            "value": 6458
          }
        },
        "27260d45ffbb498597d0e36d5978174c": {
          "model_module": "@jupyter-widgets/base",
          "model_module_version": "1.2.0",
          "model_name": "LayoutModel",
          "state": {
            "_model_module": "@jupyter-widgets/base",
            "_model_module_version": "1.2.0",
            "_model_name": "LayoutModel",
            "_view_count": null,
            "_view_module": "@jupyter-widgets/base",
            "_view_module_version": "1.2.0",
            "_view_name": "LayoutView",
            "align_content": null,
            "align_items": null,
            "align_self": null,
            "border": null,
            "bottom": null,
            "display": null,
            "flex": null,
            "flex_flow": null,
            "grid_area": null,
            "grid_auto_columns": null,
            "grid_auto_flow": null,
            "grid_auto_rows": null,
            "grid_column": null,
            "grid_gap": null,
            "grid_row": null,
            "grid_template_areas": null,
            "grid_template_columns": null,
            "grid_template_rows": null,
            "height": null,
            "justify_content": null,
            "justify_items": null,
            "left": null,
            "margin": null,
            "max_height": null,
            "max_width": null,
            "min_height": null,
            "min_width": null,
            "object_fit": null,
            "object_position": null,
            "order": null,
            "overflow": null,
            "overflow_x": null,
            "overflow_y": null,
            "padding": null,
            "right": null,
            "top": null,
            "visibility": null,
            "width": null
          }
        },
        "394adb4c608e42e79bbc835ce812cc89": {
          "model_module": "@jupyter-widgets/controls",
          "model_module_version": "1.5.0",
          "model_name": "DescriptionStyleModel",
          "state": {
            "_model_module": "@jupyter-widgets/controls",
            "_model_module_version": "1.5.0",
            "_model_name": "DescriptionStyleModel",
            "_view_count": null,
            "_view_module": "@jupyter-widgets/base",
            "_view_module_version": "1.2.0",
            "_view_name": "StyleView",
            "description_width": ""
          }
        },
        "495d0e04236642a8ab1201cf41daea1c": {
          "model_module": "@jupyter-widgets/controls",
          "model_module_version": "1.5.0",
          "model_name": "HTMLModel",
          "state": {
            "_dom_classes": [],
            "_model_module": "@jupyter-widgets/controls",
            "_model_module_version": "1.5.0",
            "_model_name": "HTMLModel",
            "_view_count": null,
            "_view_module": "@jupyter-widgets/controls",
            "_view_module_version": "1.5.0",
            "_view_name": "HTMLView",
            "description": "",
            "description_tooltip": null,
            "layout": "IPY_MODEL_53d28560d9844b508bcdb144180ff048",
            "placeholder": "​",
            "style": "IPY_MODEL_d1b618d0e93c477bb17a1bafd0b2bb81",
            "value": " 6.31k/6.31k [00:08&lt;00:00, 1.99MB/s]"
          }
        },
        "53d28560d9844b508bcdb144180ff048": {
          "model_module": "@jupyter-widgets/base",
          "model_module_version": "1.2.0",
          "model_name": "LayoutModel",
          "state": {
            "_model_module": "@jupyter-widgets/base",
            "_model_module_version": "1.2.0",
            "_model_name": "LayoutModel",
            "_view_count": null,
            "_view_module": "@jupyter-widgets/base",
            "_view_module_version": "1.2.0",
            "_view_name": "LayoutView",
            "align_content": null,
            "align_items": null,
            "align_self": null,
            "border": null,
            "bottom": null,
            "display": null,
            "flex": null,
            "flex_flow": null,
            "grid_area": null,
            "grid_auto_columns": null,
            "grid_auto_flow": null,
            "grid_auto_rows": null,
            "grid_column": null,
            "grid_gap": null,
            "grid_row": null,
            "grid_template_areas": null,
            "grid_template_columns": null,
            "grid_template_rows": null,
            "height": null,
            "justify_content": null,
            "justify_items": null,
            "left": null,
            "margin": null,
            "max_height": null,
            "max_width": null,
            "min_height": null,
            "min_width": null,
            "object_fit": null,
            "object_position": null,
            "order": null,
            "overflow": null,
            "overflow_x": null,
            "overflow_y": null,
            "padding": null,
            "right": null,
            "top": null,
            "visibility": null,
            "width": null
          }
        },
        "85dbbb9f5f3c4850a5f0dc69b947a84b": {
          "model_module": "@jupyter-widgets/controls",
          "model_module_version": "1.5.0",
          "model_name": "HBoxModel",
          "state": {
            "_dom_classes": [],
            "_model_module": "@jupyter-widgets/controls",
            "_model_module_version": "1.5.0",
            "_model_name": "HBoxModel",
            "_view_count": null,
            "_view_module": "@jupyter-widgets/controls",
            "_view_module_version": "1.5.0",
            "_view_name": "HBoxView",
            "box_style": "",
            "children": [
              "IPY_MODEL_1adf3daf9e264d3883591ad7dac0d4a4",
              "IPY_MODEL_219b75738ddd4fbaa311aeae130e0a96",
              "IPY_MODEL_495d0e04236642a8ab1201cf41daea1c"
            ],
            "layout": "IPY_MODEL_9c3d5a6d2c9a4c4086ca0a2f28a1007d"
          }
        },
        "9c3d5a6d2c9a4c4086ca0a2f28a1007d": {
          "model_module": "@jupyter-widgets/base",
          "model_module_version": "1.2.0",
          "model_name": "LayoutModel",
          "state": {
            "_model_module": "@jupyter-widgets/base",
            "_model_module_version": "1.2.0",
            "_model_name": "LayoutModel",
            "_view_count": null,
            "_view_module": "@jupyter-widgets/base",
            "_view_module_version": "1.2.0",
            "_view_name": "LayoutView",
            "align_content": null,
            "align_items": null,
            "align_self": null,
            "border": null,
            "bottom": null,
            "display": null,
            "flex": null,
            "flex_flow": null,
            "grid_area": null,
            "grid_auto_columns": null,
            "grid_auto_flow": null,
            "grid_auto_rows": null,
            "grid_column": null,
            "grid_gap": null,
            "grid_row": null,
            "grid_template_areas": null,
            "grid_template_columns": null,
            "grid_template_rows": null,
            "height": null,
            "justify_content": null,
            "justify_items": null,
            "left": null,
            "margin": null,
            "max_height": null,
            "max_width": null,
            "min_height": null,
            "min_width": null,
            "object_fit": null,
            "object_position": null,
            "order": null,
            "overflow": null,
            "overflow_x": null,
            "overflow_y": null,
            "padding": null,
            "right": null,
            "top": null,
            "visibility": null,
            "width": null
          }
        },
        "be96ffa82a78483e86808f94ad863274": {
          "model_module": "@jupyter-widgets/base",
          "model_module_version": "1.2.0",
          "model_name": "LayoutModel",
          "state": {
            "_model_module": "@jupyter-widgets/base",
            "_model_module_version": "1.2.0",
            "_model_name": "LayoutModel",
            "_view_count": null,
            "_view_module": "@jupyter-widgets/base",
            "_view_module_version": "1.2.0",
            "_view_name": "LayoutView",
            "align_content": null,
            "align_items": null,
            "align_self": null,
            "border": null,
            "bottom": null,
            "display": null,
            "flex": null,
            "flex_flow": null,
            "grid_area": null,
            "grid_auto_columns": null,
            "grid_auto_flow": null,
            "grid_auto_rows": null,
            "grid_column": null,
            "grid_gap": null,
            "grid_row": null,
            "grid_template_areas": null,
            "grid_template_columns": null,
            "grid_template_rows": null,
            "height": null,
            "justify_content": null,
            "justify_items": null,
            "left": null,
            "margin": null,
            "max_height": null,
            "max_width": null,
            "min_height": null,
            "min_width": null,
            "object_fit": null,
            "object_position": null,
            "order": null,
            "overflow": null,
            "overflow_x": null,
            "overflow_y": null,
            "padding": null,
            "right": null,
            "top": null,
            "visibility": null,
            "width": null
          }
        },
        "d1b618d0e93c477bb17a1bafd0b2bb81": {
          "model_module": "@jupyter-widgets/controls",
          "model_module_version": "1.5.0",
          "model_name": "DescriptionStyleModel",
          "state": {
            "_model_module": "@jupyter-widgets/controls",
            "_model_module_version": "1.5.0",
            "_model_name": "DescriptionStyleModel",
            "_view_count": null,
            "_view_module": "@jupyter-widgets/base",
            "_view_module_version": "1.2.0",
            "_view_name": "StyleView",
            "description_width": ""
          }
        }
      }
    }
  },
  "nbformat": 4,
  "nbformat_minor": 0
}
